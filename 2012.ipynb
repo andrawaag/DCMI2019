{
 "cells": [
  {
   "cell_type": "code",
   "execution_count": 2,
   "metadata": {},
   "outputs": [
    {
     "name": "stdout",
     "output_type": "stream",
     "text": [
      "Collecting bs4\n",
      "  Downloading https://files.pythonhosted.org/packages/10/ed/7e8b97591f6f456174139ec089c769f89a94a1a4025fe967691de971f314/bs4-0.0.1.tar.gz\n",
      "Collecting beautifulsoup4 (from bs4)\n",
      "  Using cached https://files.pythonhosted.org/packages/1a/b7/34eec2fe5a49718944e215fde81288eec1fa04638aa3fb57c1c6cd0f98c3/beautifulsoup4-4.8.0-py3-none-any.whl\n",
      "Collecting soupsieve>=1.2 (from beautifulsoup4->bs4)\n",
      "  Downloading https://files.pythonhosted.org/packages/0b/44/0474f2207fdd601bb25787671c81076333d2c80e6f97e92790f8887cf682/soupsieve-1.9.3-py2.py3-none-any.whl\n",
      "Building wheels for collected packages: bs4\n",
      "  Building wheel for bs4 (setup.py) ... \u001b[?25ldone\n",
      "\u001b[?25h  Stored in directory: /Users/andra/Library/Caches/pip/wheels/a0/b0/b2/4f80b9456b87abedbc0bf2d52235414c3467d8889be38dd472\n",
      "Successfully built bs4\n",
      "Installing collected packages: soupsieve, beautifulsoup4, bs4\n",
      "Successfully installed beautifulsoup4-4.8.0 bs4-0.0.1 soupsieve-1.9.3\n"
     ]
    }
   ],
   "source": [
    "!pip3 install bs4"
   ]
  },
  {
   "cell_type": "code",
   "execution_count": 67,
   "metadata": {},
   "outputs": [],
   "source": [
    "from bs4 import BeautifulSoup, SoupStrainer\n",
    "import requests\n"
   ]
  },
  {
   "cell_type": "markdown",
   "metadata": {},
   "source": [
    "# Proceedings 2012"
   ]
  },
  {
   "cell_type": "markdown",
   "metadata": {},
   "source": [
    "## Create conference Item"
   ]
  },
  {
   "cell_type": "code",
   "execution_count": 1,
   "metadata": {},
   "outputs": [
    {
     "name": "stdout",
     "output_type": "stream",
     "text": [
      "CREATE\n",
      "LAST\tLen\t\"DC-2012\"\n",
      "LAST\tDen\t\"academic conference\"\n",
      "LAST\tAen\t\"DC-2012: Kuching\"\n",
      "LAST\tP31\tQ2020153\tS854\t\"https://www.dublincore.org/conferences/\"\n",
      "LAST\tP31\tQ27968055\tS854\t\"https://www.dublincore.org/conferences/\"\n",
      "LAST\tP1813\ten:\"2012\"\tS854\t\"https://www.dublincore.org/conferences/\"\n",
      "LAST\tP179\tQ68046465\tS854\t\"https://www.dublincore.org/conferences/\"\n",
      "LAST\tP856\t\"https://www.dublincore.org/conferences/2012\"\tS854\t\"https://www.dublincore.org/conferences/\"\n"
     ]
    }
   ],
   "source": [
    "year = \"2012\"\n",
    "location = \"Kuching\"\n",
    "print(\"CREATE\")\n",
    "print(\"LAST\\tLen\\t\\\"DC-\"+year+\"\\\"\")     \n",
    "print(\"LAST\\tDen\\t\\\"academic conference\\\"\")\n",
    "print(\"LAST\\tAen\\t\\\"DC-\"+year+\": \"+location+\"\\\"\") \n",
    "print(\"LAST\\tP31\\tQ2020153\\tS854\\t\\\"https://www.dublincore.org/conferences/\\\"\") \n",
    "print(\"LAST\\tP31\\tQ27968055\\tS854\\t\\\"https://www.dublincore.org/conferences/\\\"\")\n",
    "print(\"LAST\\tP1813\\ten:\\\"\"+year+\"\\\"\\tS854\\t\\\"https://www.dublincore.org/conferences/\\\"\") \n",
    "print(\"LAST\\tP179\\tQ68046465\\tS854\\t\\\"https://www.dublincore.org/conferences/\\\"\")\n",
    "print(\"LAST\\tP856\\t\\\"https://www.dublincore.org/conferences/\"+year+\"\\\"\\tS854\\t\\\"https://www.dublincore.org/conferences/\\\"\") "
   ]
  },
  {
   "cell_type": "code",
   "execution_count": 2,
   "metadata": {},
   "outputs": [],
   "source": [
    "conferenceQID = \"Q68239712\""
   ]
  },
  {
   "cell_type": "markdown",
   "metadata": {},
   "source": [
    "# Proceedings"
   ]
  },
  {
   "cell_type": "code",
   "execution_count": 3,
   "metadata": {},
   "outputs": [
    {
     "name": "stdout",
     "output_type": "stream",
     "text": [
      "CREATE\n",
      "LAST\tLen\t\"Proceedings of the 2012 International Conference on Dublin Core and Metadata Applications, DC-2012 in Kuching, Sarawak, Malaysia, 3-7 September 2012\"\n",
      "LAST\tDen\t\"conference proceedings\"\n",
      "LAST\tP31\tQ1143604\tS854\t\"https://dcpapers.dublincore.org/pubs/issue/view/164\"\n",
      "LAST\tP1476\ten:\"Proceedings of the 2012 International Conference on Dublin Core and Metadata Applications, DC-2012 in Kuching, Sarawak, Malaysia, 3-7 September 2012\"\tS854\t\"https://dcpapers.dublincore.org/pubs/issue/view/164\"\n",
      "LAST\tP953\t\"https://dcpapers.dublincore.org/pubs/issue/view/164\"\n",
      "LAST\tP4745\tQ68239712\tS854\t\"https://dcpapers.dublincore.org/pubs/issue/view/164\"\n"
     ]
    }
   ],
   "source": [
    "referenceurl = \"https://dcpapers.dublincore.org/pubs/issue/view/164\" ## Needs to be changed\n",
    "location = \"Kuching, Sarawak, Malaysia, 3-7 September 2012\" ## Needs to be changed\n",
    "print(\"CREATE\")\n",
    "print(\"LAST\\tLen\\t\\\"Proceedings of the \"+year+\" International Conference on Dublin Core and Metadata Applications, DC-\"+year+\" in \"+location+\"\\\"\")  \n",
    "print(\"LAST\\tDen\\t\\\"conference proceedings\\\"\")\n",
    "print(\"LAST\\tP31\\tQ1143604\\tS854\\t\\\"\"+referenceurl+\"\\\"\")\n",
    "print(\"LAST\\tP1476\\ten:\\\"Proceedings of the \"+year+\" International Conference on Dublin Core and Metadata Applications, DC-\"+year+\" in \"+location+\"\\\"\\tS854\\t\\\"\"+referenceurl+\"\\\"\")\n",
    "print(\"LAST\\tP953\\t\\\"\"+referenceurl+\"\\\"\")\n",
    "print(\"LAST\\tP4745\\t\"+conferenceQID+\"\\tS854\\t\\\"\"+referenceurl+\"\\\"\") "
   ]
  },
  {
   "cell_type": "code",
   "execution_count": 4,
   "metadata": {},
   "outputs": [],
   "source": [
    "proceedingsQID = \"Q68239848\""
   ]
  },
  {
   "cell_type": "markdown",
   "metadata": {},
   "source": [
    "## Papers"
   ]
  },
  {
   "cell_type": "code",
   "execution_count": 5,
   "metadata": {},
   "outputs": [
    {
     "name": "stdout",
     "output_type": "stream",
     "text": [
      "\n",
      "CREATE\n",
      "LAST\tLen\t\"Introductions and Committees\"\n",
      "LAST\tDen\t\"conference paper\"\n",
      "LAST\tP31\tQ23927052\tS854\t\"https://dcpapers.dublincore.org/pubs/issue/view/164\"\n",
      "LAST\tP1476\ten:\"Introductions and Committees\"\tS854\t\"https://dcpapers.dublincore.org/pubs/issue/view/164\"\n",
      "LAST\tP953\t\"http://dcpapers.dublincore.org/pubs/article/view/3653\"\tS854\t\"https://dcpapers.dublincore.org/pubs/issue/view/164\"\n",
      "LAST\tP1433\tQ68239848\tS854\t\"https://dcpapers.dublincore.org/pubs/issue/view/164\"\n",
      "\n",
      "LAST\tP2093\t\"\"\tP1545\t\"1\"\tS854\t\"https://dcpapers.dublincore.org/pubs/issue/view/164\"\n",
      "\n",
      "CREATE\n",
      "LAST\tLen\t\"Enriching Webpages with Semantic Information\"\n",
      "LAST\tDen\t\"conference paper\"\n",
      "LAST\tP31\tQ23927052\tS854\t\"https://dcpapers.dublincore.org/pubs/issue/view/164\"\n",
      "LAST\tP1476\ten:\"Enriching Webpages with Semantic Information\"\tS854\t\"https://dcpapers.dublincore.org/pubs/issue/view/164\"\n",
      "LAST\tP953\t\"http://dcpapers.dublincore.org/pubs/article/view/3663\"\tS854\t\"https://dcpapers.dublincore.org/pubs/issue/view/164\"\n",
      "LAST\tP1433\tQ68239848\tS854\t\"https://dcpapers.dublincore.org/pubs/issue/view/164\"\n",
      "\n",
      "LAST\tP2093\t\"Norbaitiah Ambiah\"\tP1545\t\"1\"\tS854\t\"https://dcpapers.dublincore.org/pubs/issue/view/164\"\n",
      "LAST\tP2093\t\"Dickson Lukose\"\tP1545\t\"2\"\tS854\t\"https://dcpapers.dublincore.org/pubs/issue/view/164\"\n",
      "\n",
      "CREATE\n",
      "LAST\tLen\t\"Linked Data Based Library Web Services For Economics\"\n",
      "LAST\tDen\t\"conference paper\"\n",
      "LAST\tP31\tQ23927052\tS854\t\"https://dcpapers.dublincore.org/pubs/issue/view/164\"\n",
      "LAST\tP1476\ten:\"Linked Data Based Library Web Services For Economics\"\tS854\t\"https://dcpapers.dublincore.org/pubs/issue/view/164\"\n",
      "LAST\tP953\t\"http://dcpapers.dublincore.org/pubs/article/view/3659\"\tS854\t\"https://dcpapers.dublincore.org/pubs/issue/view/164\"\n",
      "LAST\tP1433\tQ68239848\tS854\t\"https://dcpapers.dublincore.org/pubs/issue/view/164\"\n",
      "\n",
      "LAST\tP2093\t\"Joachim Neubert\"\tP1545\t\"1\"\tS854\t\"https://dcpapers.dublincore.org/pubs/issue/view/164\"\n",
      "\n",
      "CREATE\n",
      "LAST\tLen\t\"A Machine-Processable Dublin Core Application Profile to Analysis                    Patterns to provide Linked Data\"\n",
      "LAST\tDen\t\"conference paper\"\n",
      "LAST\tP31\tQ23927052\tS854\t\"https://dcpapers.dublincore.org/pubs/issue/view/164\"\n",
      "LAST\tP1476\ten:\"A Machine-Processable Dublin Core Application Profile to Analysis                    Patterns to provide Linked Data\"\tS854\t\"https://dcpapers.dublincore.org/pubs/issue/view/164\"\n",
      "LAST\tP953\t\"http://dcpapers.dublincore.org/pubs/article/view/3655\"\tS854\t\"https://dcpapers.dublincore.org/pubs/issue/view/164\"\n",
      "LAST\tP1433\tQ68239848\tS854\t\"https://dcpapers.dublincore.org/pubs/issue/view/164\"\n",
      "\n",
      "LAST\tP2093\t\"Lucas Francisco da Matta Vegi\"\tP1545\t\"1\"\tS854\t\"https://dcpapers.dublincore.org/pubs/issue/view/164\"\n",
      "LAST\tP2093\t\"Jugurta Lisboa-Filho\"\tP1545\t\"2\"\tS854\t\"https://dcpapers.dublincore.org/pubs/issue/view/164\"\n",
      "LAST\tP2093\t\"Joep Crompvoets\"\tP1545\t\"3\"\tS854\t\"https://dcpapers.dublincore.org/pubs/issue/view/164\"\n",
      "\n",
      "CREATE\n",
      "LAST\tLen\t\"Functional and Architectural Requirements for Metadata: Supporting                    Discovery and Management of Scientific Data\"\n",
      "LAST\tDen\t\"conference paper\"\n",
      "LAST\tP31\tQ23927052\tS854\t\"https://dcpapers.dublincore.org/pubs/issue/view/164\"\n",
      "LAST\tP1476\ten:\"Functional and Architectural Requirements for Metadata: Supporting                    Discovery and Management of Scientific Data\"\tS854\t\"https://dcpapers.dublincore.org/pubs/issue/view/164\"\n",
      "LAST\tP953\t\"http://dcpapers.dublincore.org/pubs/article/view/3660\"\tS854\t\"https://dcpapers.dublincore.org/pubs/issue/view/164\"\n",
      "LAST\tP1433\tQ68239848\tS854\t\"https://dcpapers.dublincore.org/pubs/issue/view/164\"\n",
      "\n",
      "LAST\tP2093\t\"Jian Qin\"\tP1545\t\"1\"\tS854\t\"https://dcpapers.dublincore.org/pubs/issue/view/164\"\n",
      "LAST\tP2093\t\"Alex Ball\"\tP1545\t\"2\"\tS854\t\"https://dcpapers.dublincore.org/pubs/issue/view/164\"\n",
      "LAST\tP2093\t\"Jane Greenberg\"\tP1545\t\"3\"\tS854\t\"https://dcpapers.dublincore.org/pubs/issue/view/164\"\n",
      "\n",
      "CREATE\n",
      "LAST\tLen\t\"Authenticity Metadata and the IPAM: Progress toward the InterPARES                    Application Profile\"\n",
      "LAST\tDen\t\"conference paper\"\n",
      "LAST\tP31\tQ23927052\tS854\t\"https://dcpapers.dublincore.org/pubs/issue/view/164\"\n",
      "LAST\tP1476\ten:\"Authenticity Metadata and the IPAM: Progress toward the InterPARES                    Application Profile\"\tS854\t\"https://dcpapers.dublincore.org/pubs/issue/view/164\"\n",
      "LAST\tP953\t\"http://dcpapers.dublincore.org/pubs/article/view/3662\"\tS854\t\"https://dcpapers.dublincore.org/pubs/issue/view/164\"\n",
      "LAST\tP1433\tQ68239848\tS854\t\"https://dcpapers.dublincore.org/pubs/issue/view/164\"\n",
      "\n",
      "LAST\tP2093\t\"Joseph T. Tennis\"\tP1545\t\"1\"\tS854\t\"https://dcpapers.dublincore.org/pubs/issue/view/164\"\n",
      "LAST\tP2093\t\"Corinne Rogers\"\tP1545\t\"2\"\tS854\t\"https://dcpapers.dublincore.org/pubs/issue/view/164\"\n",
      "\n",
      "CREATE\n",
      "LAST\tLen\t\"Leveraging the DDI Model for Linked Statistical Data in the Social,                    Behavioural, and Economic Sciences\"\n",
      "LAST\tDen\t\"conference paper\"\n",
      "LAST\tP31\tQ23927052\tS854\t\"https://dcpapers.dublincore.org/pubs/issue/view/164\"\n",
      "LAST\tP1476\ten:\"Leveraging the DDI Model for Linked Statistical Data in the Social,                    Behavioural, and Economic Sciences\"\tS854\t\"https://dcpapers.dublincore.org/pubs/issue/view/164\"\n",
      "LAST\tP953\t\"http://dcpapers.dublincore.org/pubs/article/view/3654\"\tS854\t\"https://dcpapers.dublincore.org/pubs/issue/view/164\"\n",
      "LAST\tP1433\tQ68239848\tS854\t\"https://dcpapers.dublincore.org/pubs/issue/view/164\"\n",
      "\n",
      "LAST\tP2093\t\"Thomas Bosch\"\tP1545\t\"1\"\tS854\t\"https://dcpapers.dublincore.org/pubs/issue/view/164\"\n",
      "LAST\tP2093\t\"Richard Cyganiak\"\tP1545\t\"2\"\tS854\t\"https://dcpapers.dublincore.org/pubs/issue/view/164\"\n",
      "LAST\tP2093\t\"Joachim Wackerow\"\tP1545\t\"3\"\tS854\t\"https://dcpapers.dublincore.org/pubs/issue/view/164\"\n",
      "LAST\tP2093\t\"Benjamin Zapilko\"\tP1545\t\"4\"\tS854\t\"https://dcpapers.dublincore.org/pubs/issue/view/164\"\n",
      "\n",
      "CREATE\n",
      "LAST\tLen\t\"A Domain Model for Describing and Accessing KOS Resources: Report of                    Processes in Developing a KOS Description Metadata Application Profile\"\n",
      "LAST\tDen\t\"conference paper\"\n",
      "LAST\tP31\tQ23927052\tS854\t\"https://dcpapers.dublincore.org/pubs/issue/view/164\"\n",
      "LAST\tP1476\ten:\"A Domain Model for Describing and Accessing KOS Resources: Report of                    Processes in Developing a KOS Description Metadata Application Profile\"\tS854\t\"https://dcpapers.dublincore.org/pubs/issue/view/164\"\n",
      "LAST\tP953\t\"http://dcpapers.dublincore.org/pubs/article/view/3656\"\tS854\t\"https://dcpapers.dublincore.org/pubs/issue/view/164\"\n",
      "LAST\tP1433\tQ68239848\tS854\t\"https://dcpapers.dublincore.org/pubs/issue/view/164\"\n",
      "\n",
      "LAST\tP2093\t\"Maja Žumer\"\tP1545\t\"1\"\tS854\t\"https://dcpapers.dublincore.org/pubs/issue/view/164\"\n",
      "LAST\tP2093\t\"Marcia Lei Zeng\"\tP1545\t\"2\"\tS854\t\"https://dcpapers.dublincore.org/pubs/issue/view/164\"\n",
      "LAST\tP2093\t\"Marjorie MK Hlava\"\tP1545\t\"3\"\tS854\t\"https://dcpapers.dublincore.org/pubs/issue/view/164\"\n",
      "\n",
      "CREATE\n",
      "LAST\tLen\t\"A Model to Support Interpretation of Embedded Metadata without Formal                    Schema by Linking a Metadata Instance to DCMI Description Set Profiles\"\n",
      "LAST\tDen\t\"conference paper\"\n",
      "LAST\tP31\tQ23927052\tS854\t\"https://dcpapers.dublincore.org/pubs/issue/view/164\"\n",
      "LAST\tP1476\ten:\"A Model to Support Interpretation of Embedded Metadata without Formal                    Schema by Linking a Metadata Instance to DCMI Description Set Profiles\"\tS854\t\"https://dcpapers.dublincore.org/pubs/issue/view/164\"\n",
      "LAST\tP953\t\"http://dcpapers.dublincore.org/pubs/article/view/3657\"\tS854\t\"https://dcpapers.dublincore.org/pubs/issue/view/164\"\n",
      "LAST\tP1433\tQ68239848\tS854\t\"https://dcpapers.dublincore.org/pubs/issue/view/164\"\n",
      "\n",
      "LAST\tP2093\t\"Tsunagu Honma\"\tP1545\t\"1\"\tS854\t\"https://dcpapers.dublincore.org/pubs/issue/view/164\"\n",
      "LAST\tP2093\t\"Mitsuharu Nagamori\"\tP1545\t\"2\"\tS854\t\"https://dcpapers.dublincore.org/pubs/issue/view/164\"\n",
      "LAST\tP2093\t\"Shigeo Sugimoto\"\tP1545\t\"3\"\tS854\t\"https://dcpapers.dublincore.org/pubs/issue/view/164\"\n",
      "\n",
      "CREATE\n",
      "LAST\tLen\t\"Metadata Development for Palm Leaf Manuscripts in Thailand\"\n",
      "LAST\tDen\t\"conference paper\"\n",
      "LAST\tP31\tQ23927052\tS854\t\"https://dcpapers.dublincore.org/pubs/issue/view/164\"\n",
      "LAST\tP1476\ten:\"Metadata Development for Palm Leaf Manuscripts in Thailand\"\tS854\t\"https://dcpapers.dublincore.org/pubs/issue/view/164\"\n",
      "LAST\tP953\t\"http://dcpapers.dublincore.org/pubs/article/view/3658\"\tS854\t\"https://dcpapers.dublincore.org/pubs/issue/view/164\"\n",
      "LAST\tP1433\tQ68239848\tS854\t\"https://dcpapers.dublincore.org/pubs/issue/view/164\"\n",
      "\n",
      "LAST\tP2093\t\"Lampang Manmart\"\tP1545\t\"1\"\tS854\t\"https://dcpapers.dublincore.org/pubs/issue/view/164\"\n",
      "LAST\tP2093\t\"Nisachol Chamnongsri\"\tP1545\t\"2\"\tS854\t\"https://dcpapers.dublincore.org/pubs/issue/view/164\"\n",
      "LAST\tP2093\t\"Vilas Wuwongse\"\tP1545\t\"3\"\tS854\t\"https://dcpapers.dublincore.org/pubs/issue/view/164\"\n",
      "LAST\tP2093\t\"Shigeo Sugimoto\"\tP1545\t\"4\"\tS854\t\"https://dcpapers.dublincore.org/pubs/issue/view/164\"\n",
      "\n",
      "CREATE\n",
      "LAST\tLen\t\"Recordkeeping Metadata, the Archival Multiverse, and Societal Grand                    Challenges\"\n",
      "LAST\tDen\t\"conference paper\"\n",
      "LAST\tP31\tQ23927052\tS854\t\"https://dcpapers.dublincore.org/pubs/issue/view/164\"\n",
      "LAST\tP1476\ten:\"Recordkeeping Metadata, the Archival Multiverse, and Societal Grand                    Challenges\"\tS854\t\"https://dcpapers.dublincore.org/pubs/issue/view/164\"\n",
      "LAST\tP953\t\"http://dcpapers.dublincore.org/pubs/article/view/3661\"\tS854\t\"https://dcpapers.dublincore.org/pubs/issue/view/164\"\n",
      "LAST\tP1433\tQ68239848\tS854\t\"https://dcpapers.dublincore.org/pubs/issue/view/164\"\n",
      "\n",
      "LAST\tP2093\t\"Anne Gilliland\"\tP1545\t\"1\"\tS854\t\"https://dcpapers.dublincore.org/pubs/issue/view/164\"\n",
      "LAST\tP2093\t\"Sue McKemmish\"\tP1545\t\"2\"\tS854\t\"https://dcpapers.dublincore.org/pubs/issue/view/164\"\n",
      "\n",
      "CREATE\n",
      "LAST\tLen\t\"Proof and Trust in the OpenAGRIS Implementation\"\n",
      "LAST\tDen\t\"conference paper\"\n",
      "LAST\tP31\tQ23927052\tS854\t\"https://dcpapers.dublincore.org/pubs/issue/view/164\"\n",
      "LAST\tP1476\ten:\"Proof and Trust in the OpenAGRIS Implementation\"\tS854\t\"https://dcpapers.dublincore.org/pubs/issue/view/164\"\n",
      "LAST\tP953\t\"http://dcpapers.dublincore.org/pubs/article/view/3665\"\tS854\t\"https://dcpapers.dublincore.org/pubs/issue/view/164\"\n",
      "LAST\tP1433\tQ68239848\tS854\t\"https://dcpapers.dublincore.org/pubs/issue/view/164\"\n",
      "\n",
      "LAST\tP2093\t\"Yves Jaques\"\tP1545\t\"1\"\tS854\t\"https://dcpapers.dublincore.org/pubs/issue/view/164\"\n",
      "LAST\tP2093\t\"Stefano Anibaldi\"\tP1545\t\"2\"\tS854\t\"https://dcpapers.dublincore.org/pubs/issue/view/164\"\n",
      "LAST\tP2093\t\"Fabrizio Celli\"\tP1545\t\"3\"\tS854\t\"https://dcpapers.dublincore.org/pubs/issue/view/164\"\n",
      "LAST\tP2093\t\"Imma Subirats\"\tP1545\t\"4\"\tS854\t\"https://dcpapers.dublincore.org/pubs/issue/view/164\"\n",
      "LAST\tP2093\t\"Armando Stellato\"\tP1545\t\"5\"\tS854\t\"https://dcpapers.dublincore.org/pubs/issue/view/164\"\n",
      "LAST\tP2093\t\"Johannes Keizer\"\tP1545\t\"6\"\tS854\t\"https://dcpapers.dublincore.org/pubs/issue/view/164\"\n",
      "\n",
      "CREATE\n",
      "LAST\tLen\t\"Extending Basic Dublin Core Elements for an Open Research Data                    Archive\"\n",
      "LAST\tDen\t\"conference paper\"\n",
      "LAST\tP31\tQ23927052\tS854\t\"https://dcpapers.dublincore.org/pubs/issue/view/164\"\n",
      "LAST\tP1476\ten:\"Extending Basic Dublin Core Elements for an Open Research Data                    Archive\"\tS854\t\"https://dcpapers.dublincore.org/pubs/issue/view/164\"\n",
      "LAST\tP953\t\"http://dcpapers.dublincore.org/pubs/article/view/3664\"\tS854\t\"https://dcpapers.dublincore.org/pubs/issue/view/164\"\n",
      "LAST\tP1433\tQ68239848\tS854\t\"https://dcpapers.dublincore.org/pubs/issue/view/164\"\n",
      "\n",
      "LAST\tP2093\t\"Andias Wira-Alam\"\tP1545\t\"1\"\tS854\t\"https://dcpapers.dublincore.org/pubs/issue/view/164\"\n",
      "LAST\tP2093\t\"Dimitar Dimitrov\"\tP1545\t\"2\"\tS854\t\"https://dcpapers.dublincore.org/pubs/issue/view/164\"\n",
      "LAST\tP2093\t\"Wolfgang Zenk-Möltgen\"\tP1545\t\"3\"\tS854\t\"https://dcpapers.dublincore.org/pubs/issue/view/164\"\n",
      "\n",
      "CREATE\n",
      "LAST\tLen\t\"Extracting Output Schemas from XSLT Stylesheets and Their Possible                    Applications\"\n",
      "LAST\tDen\t\"conference paper\"\n",
      "LAST\tP31\tQ23927052\tS854\t\"https://dcpapers.dublincore.org/pubs/issue/view/164\"\n",
      "LAST\tP1476\ten:\"Extracting Output Schemas from XSLT Stylesheets and Their Possible                    Applications\"\tS854\t\"https://dcpapers.dublincore.org/pubs/issue/view/164\"\n",
      "LAST\tP953\t\"http://dcpapers.dublincore.org/pubs/article/view/3666\"\tS854\t\"https://dcpapers.dublincore.org/pubs/issue/view/164\"\n",
      "LAST\tP1433\tQ68239848\tS854\t\"https://dcpapers.dublincore.org/pubs/issue/view/164\"\n",
      "\n",
      "LAST\tP2093\t\"Ruben Mendes\"\tP1545\t\"1\"\tS854\t\"https://dcpapers.dublincore.org/pubs/issue/view/164\"\n",
      "LAST\tP2093\t\"José Borbinha\"\tP1545\t\"2\"\tS854\t\"https://dcpapers.dublincore.org/pubs/issue/view/164\"\n",
      "LAST\tP2093\t\"Hugo Manguinhas\"\tP1545\t\"3\"\tS854\t\"https://dcpapers.dublincore.org/pubs/issue/view/164\"\n",
      "\n",
      "CREATE\n",
      "LAST\tLen\t\"Conceptual framework of Metadata Schema development for a digitized                    Inscriptions Collection Management\"\n",
      "LAST\tDen\t\"conference paper\"\n",
      "LAST\tP31\tQ23927052\tS854\t\"https://dcpapers.dublincore.org/pubs/issue/view/164\"\n",
      "LAST\tP1476\ten:\"Conceptual framework of Metadata Schema development for a digitized                    Inscriptions Collection Management\"\tS854\t\"https://dcpapers.dublincore.org/pubs/issue/view/164\"\n",
      "LAST\tP953\t\"http://dcpapers.dublincore.org/pubs/article/view/3667\"\tS854\t\"https://dcpapers.dublincore.org/pubs/issue/view/164\"\n",
      "LAST\tP1433\tQ68239848\tS854\t\"https://dcpapers.dublincore.org/pubs/issue/view/164\"\n",
      "\n",
      "LAST\tP2093\t\"Witsapat Chaichuay\"\tP1545\t\"1\"\tS854\t\"https://dcpapers.dublincore.org/pubs/issue/view/164\"\n",
      "LAST\tP2093\t\"Lampang ManMart\"\tP1545\t\"2\"\tS854\t\"https://dcpapers.dublincore.org/pubs/issue/view/164\"\n",
      "LAST\tP2093\t\"Vilas Wuwongse\"\tP1545\t\"3\"\tS854\t\"https://dcpapers.dublincore.org/pubs/issue/view/164\"\n",
      "LAST\tP2093\t\"Nisachol Chamnongsri\"\tP1545\t\"4\"\tS854\t\"https://dcpapers.dublincore.org/pubs/issue/view/164\"\n"
     ]
    }
   ],
   "source": [
    "import requests\n",
    "from bs4 import BeautifulSoup, SoupStrainer\n",
    "\n",
    "page = requests.get(referenceurl).text\n",
    "soup = BeautifulSoup(page)\n",
    "\n",
    "table = soup.findAll('td', {'class': 'tocArticleTitleAuthors'})\n",
    "for article in table:\n",
    "    title = article.find('div', {'class': 'tocTitle'})\n",
    "    print(\"\\nCREATE\")\n",
    "    print(\"LAST\\tLen\\t\\\"\"+title.text.strip().replace(\"\\n\", \"\")+\"\\\"\")\n",
    "    print(\"LAST\\tDen\\t\\\"conference paper\\\"\")\n",
    "    print(\"LAST\\tP31\\tQ23927052\\tS854\\t\\\"\"+referenceurl+\"\\\"\")\n",
    "    print(\"LAST\\tP1476\\ten:\\\"\"+title.text.strip().replace(\"\\n\", \"\")+\"\\\"\\tS854\\t\\\"\"+referenceurl+\"\\\"\")\n",
    "    print(\"LAST\\tP953\\t\\\"\"+title.a[\"href\"]+\"\\\"\\tS854\\t\\\"\"+referenceurl+\"\\\"\")\n",
    "    print(\"LAST\\tP1433\\t\"+proceedingsQID+\"\\tS854\\t\\\"\"+referenceurl+\"\\\"\") \n",
    "    print(\"\")\n",
    "    authors = article.find('div', {'class': 'tocAuthors'}).text.strip().split(\",\")\n",
    "    seriesordinal = 0\n",
    "    for author in authors:\n",
    "        #print(author.strip())\n",
    "        seriesordinal +=1\n",
    "        print(\"LAST\\tP2093\\t\\\"\"+author.strip()+\"\\\"\\tP1545\\t\\\"\"+str(seriesordinal)+\"\\\"\\tS854\\t\\\"\"+referenceurl+\"\\\"\")"
   ]
  },
  {
   "cell_type": "code",
   "execution_count": null,
   "metadata": {},
   "outputs": [],
   "source": []
  }
 ],
 "metadata": {
  "kernelspec": {
   "display_name": "Python 3",
   "language": "python",
   "name": "python3"
  },
  "language_info": {
   "codemirror_mode": {
    "name": "ipython",
    "version": 3
   },
   "file_extension": ".py",
   "mimetype": "text/x-python",
   "name": "python",
   "nbconvert_exporter": "python",
   "pygments_lexer": "ipython3",
   "version": "3.7.4"
  }
 },
 "nbformat": 4,
 "nbformat_minor": 4
}
