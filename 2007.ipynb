{
 "cells": [
  {
   "cell_type": "code",
   "execution_count": 2,
   "metadata": {},
   "outputs": [
    {
     "name": "stdout",
     "output_type": "stream",
     "text": [
      "Collecting bs4\n",
      "  Downloading https://files.pythonhosted.org/packages/10/ed/7e8b97591f6f456174139ec089c769f89a94a1a4025fe967691de971f314/bs4-0.0.1.tar.gz\n",
      "Collecting beautifulsoup4 (from bs4)\n",
      "  Using cached https://files.pythonhosted.org/packages/1a/b7/34eec2fe5a49718944e215fde81288eec1fa04638aa3fb57c1c6cd0f98c3/beautifulsoup4-4.8.0-py3-none-any.whl\n",
      "Collecting soupsieve>=1.2 (from beautifulsoup4->bs4)\n",
      "  Downloading https://files.pythonhosted.org/packages/0b/44/0474f2207fdd601bb25787671c81076333d2c80e6f97e92790f8887cf682/soupsieve-1.9.3-py2.py3-none-any.whl\n",
      "Building wheels for collected packages: bs4\n",
      "  Building wheel for bs4 (setup.py) ... \u001b[?25ldone\n",
      "\u001b[?25h  Stored in directory: /Users/andra/Library/Caches/pip/wheels/a0/b0/b2/4f80b9456b87abedbc0bf2d52235414c3467d8889be38dd472\n",
      "Successfully built bs4\n",
      "Installing collected packages: soupsieve, beautifulsoup4, bs4\n",
      "Successfully installed beautifulsoup4-4.8.0 bs4-0.0.1 soupsieve-1.9.3\n"
     ]
    }
   ],
   "source": [
    "!pip3 install bs4"
   ]
  },
  {
   "cell_type": "code",
   "execution_count": 1,
   "metadata": {},
   "outputs": [],
   "source": [
    "from bs4 import BeautifulSoup, SoupStrainer\n",
    "import requests\n"
   ]
  },
  {
   "cell_type": "markdown",
   "metadata": {},
   "source": [
    "# Proceedings 2007"
   ]
  },
  {
   "cell_type": "markdown",
   "metadata": {},
   "source": [
    "## Create conference Item"
   ]
  },
  {
   "cell_type": "code",
   "execution_count": 1,
   "metadata": {},
   "outputs": [
    {
     "name": "stdout",
     "output_type": "stream",
     "text": [
      "CREATE\n",
      "LAST\tLen\t\"DC-2007\"\n",
      "LAST\tDen\t\"academic conference\"\n",
      "LAST\tAen\t\"DC-2007: Singapore\"\n",
      "LAST\tP31\tQ2020153\tS854\t\"https://www.dublincore.org/conferences/\"\n",
      "LAST\tP31\tQ27968055\tS854\t\"https://www.dublincore.org/conferences/\"\n",
      "LAST\tP1813\ten:\"DC-2007\"\tS854\t\"https://www.dublincore.org/conferences/\"\n",
      "LAST\tP179\tQ68046465\tS854\t\"https://www.dublincore.org/conferences/\"\n",
      "LAST\tP856\t\"https://www.dublincore.org/conferences/2007\"\tS854\t\"https://www.dublincore.org/conferences/\"\n"
     ]
    }
   ],
   "source": [
    "year = \"2007\"\n",
    "location = \"Singapore\"\n",
    "\n",
    "print(\"CREATE\")\n",
    "print(\"LAST\\tLen\\t\\\"DC-\"+year+\"\\\"\")     \n",
    "print(\"LAST\\tDen\\t\\\"academic conference\\\"\")\n",
    "print(\"LAST\\tAen\\t\\\"DC-\"+year+\": \"+location+\"\\\"\") \n",
    "print(\"LAST\\tP31\\tQ2020153\\tS854\\t\\\"https://www.dublincore.org/conferences/\\\"\") \n",
    "print(\"LAST\\tP31\\tQ27968055\\tS854\\t\\\"https://www.dublincore.org/conferences/\\\"\")\n",
    "print(\"LAST\\tP1813\\ten:\\\"DC-\"+year+\"\\\"\\tS854\\t\\\"https://www.dublincore.org/conferences/\\\"\") \n",
    "print(\"LAST\\tP179\\tQ68046465\\tS854\\t\\\"https://www.dublincore.org/conferences/\\\"\")\n",
    "print(\"LAST\\tP856\\t\\\"https://www.dublincore.org/conferences/\"+year+\"\\\"\\tS854\\t\\\"https://www.dublincore.org/conferences/\\\"\") "
   ]
  },
  {
   "cell_type": "code",
   "execution_count": 2,
   "metadata": {},
   "outputs": [],
   "source": [
    "conferenceQID = \"Q68278197\""
   ]
  },
  {
   "cell_type": "markdown",
   "metadata": {},
   "source": [
    "# Proceedings"
   ]
  },
  {
   "cell_type": "code",
   "execution_count": 3,
   "metadata": {},
   "outputs": [
    {
     "name": "stdout",
     "output_type": "stream",
     "text": [
      "CREATE\n",
      "LAST\tLen\t\"Proceedings of the 2007 International Conference on Dublin Core and Metadata Applications, DC-2007 in  Singapore, 27-31 August 2007\"\n",
      "LAST\tDen\t\"conference proceedings\"\n",
      "LAST\tP31\tQ1143604\tS854\t\"https://dcpapers.dublincore.org/pubs/issue/view/30\"\n",
      "LAST\tP1476\ten:\"Proceedings of the 2007 International Conference on Dublin Core and Metadata Applications, DC-2007 in  Singapore, 27-31 August 2007\"\tS854\t\"https://dcpapers.dublincore.org/pubs/issue/view/30\"\n",
      "LAST\tP953\t\"https://dcpapers.dublincore.org/pubs/issue/view/30\"\n",
      "LAST\tP4745\tQ68277652\tS854\t\"https://dcpapers.dublincore.org/pubs/issue/view/30\"\n"
     ]
    }
   ],
   "source": [
    "referenceurl = \"https://dcpapers.dublincore.org/pubs/issue/view/30\" ## Needs to be changed\n",
    "location = \" Singapore, 27-31 August 2007\" ## Needs to be changed\n",
    "\n",
    "print(\"CREATE\")\n",
    "print(\"LAST\\tLen\\t\\\"Proceedings of the \"+year+\" International Conference on Dublin Core and Metadata Applications, DC-\"+year+\" in \"+location+\"\\\"\")  \n",
    "print(\"LAST\\tDen\\t\\\"conference proceedings\\\"\")\n",
    "print(\"LAST\\tP31\\tQ1143604\\tS854\\t\\\"\"+referenceurl+\"\\\"\")\n",
    "print(\"LAST\\tP1476\\ten:\\\"Proceedings of the \"+year+\" International Conference on Dublin Core and Metadata Applications, DC-\"+year+\" in \"+location+\"\\\"\\tS854\\t\\\"\"+referenceurl+\"\\\"\")\n",
    "print(\"LAST\\tP953\\t\\\"\"+referenceurl+\"\\\"\")\n",
    "print(\"LAST\\tP4745\\t\"+conferenceQID+\"\\tS854\\t\\\"\"+referenceurl+\"\\\"\") "
   ]
  },
  {
   "cell_type": "code",
   "execution_count": 4,
   "metadata": {},
   "outputs": [],
   "source": [
    "proceedingsQID = \"Q68278331\""
   ]
  },
  {
   "cell_type": "markdown",
   "metadata": {},
   "source": [
    "## Papers"
   ]
  },
  {
   "cell_type": "code",
   "execution_count": 5,
   "metadata": {},
   "outputs": [
    {
     "name": "stdout",
     "output_type": "stream",
     "text": [
      "\n",
      "CREATE\n",
      "LAST\tLen\t\"Parallel Writing in East Asian Languages and Its Representation in Metadata in Light of the DCMI Abstract Model\"\n",
      "LAST\tDen\t\"conference paper\"\n",
      "LAST\tP31\tQ23927052\tS854\t\"https://dcpapers.dublincore.org/pubs/issue/view/30\"\n",
      "LAST\tP1476\ten:\"Parallel Writing in East Asian Languages and Its Representation in Metadata in Light of the DCMI Abstract Model\"\tS854\t\"https://dcpapers.dublincore.org/pubs/issue/view/30\"\n",
      "LAST\tP953\t\"http://dcpapers.dublincore.org/pubs/article/view/863\"\tS854\t\"https://dcpapers.dublincore.org/pubs/issue/view/30\"\n",
      "LAST\tP1433\tQ68278331\tS854\t\"https://dcpapers.dublincore.org/pubs/issue/view/30\"\n",
      "\n",
      "LAST\tP2093\t\"Akira Miyazawa\"\tP1545\t\"1\"\tS854\t\"https://dcpapers.dublincore.org/pubs/issue/view/30\"\n",
      "\n",
      "CREATE\n",
      "LAST\tLen\t\"Annotation Profiles: Configuring Forms to Edit RDF\"\n",
      "LAST\tDen\t\"conference paper\"\n",
      "LAST\tP31\tQ23927052\tS854\t\"https://dcpapers.dublincore.org/pubs/issue/view/30\"\n",
      "LAST\tP1476\ten:\"Annotation Profiles: Configuring Forms to Edit RDF\"\tS854\t\"https://dcpapers.dublincore.org/pubs/issue/view/30\"\n",
      "LAST\tP953\t\"http://dcpapers.dublincore.org/pubs/article/view/864\"\tS854\t\"https://dcpapers.dublincore.org/pubs/issue/view/30\"\n",
      "LAST\tP1433\tQ68278331\tS854\t\"https://dcpapers.dublincore.org/pubs/issue/view/30\"\n",
      "\n",
      "LAST\tP2093\t\"Matthias Palmér\"\tP1545\t\"1\"\tS854\t\"https://dcpapers.dublincore.org/pubs/issue/view/30\"\n",
      "LAST\tP2093\t\"Fredrik Enoksson\"\tP1545\t\"2\"\tS854\t\"https://dcpapers.dublincore.org/pubs/issue/view/30\"\n",
      "LAST\tP2093\t\"Mikael Nilsson\"\tP1545\t\"3\"\tS854\t\"https://dcpapers.dublincore.org/pubs/issue/view/30\"\n",
      "LAST\tP2093\t\"Ambjörn Naeve\"\tP1545\t\"4\"\tS854\t\"https://dcpapers.dublincore.org/pubs/issue/view/30\"\n",
      "\n",
      "CREATE\n",
      "LAST\tLen\t\"Theory and Practice of Application Profile Development\"\n",
      "LAST\tDen\t\"conference paper\"\n",
      "LAST\tP31\tQ23927052\tS854\t\"https://dcpapers.dublincore.org/pubs/issue/view/30\"\n",
      "LAST\tP1476\ten:\"Theory and Practice of Application Profile Development\"\tS854\t\"https://dcpapers.dublincore.org/pubs/issue/view/30\"\n",
      "LAST\tP953\t\"http://dcpapers.dublincore.org/pubs/article/view/865\"\tS854\t\"https://dcpapers.dublincore.org/pubs/issue/view/30\"\n",
      "LAST\tP1433\tQ68278331\tS854\t\"https://dcpapers.dublincore.org/pubs/issue/view/30\"\n",
      "\n",
      "LAST\tP2093\t\"Jon Mason\"\tP1545\t\"1\"\tS854\t\"https://dcpapers.dublincore.org/pubs/issue/view/30\"\n",
      "LAST\tP2093\t\"Helen Galatis\"\tP1545\t\"2\"\tS854\t\"https://dcpapers.dublincore.org/pubs/issue/view/30\"\n",
      "\n",
      "CREATE\n",
      "LAST\tLen\t\"Application Profiles: Exposing and Enforcing Metadata Quality\"\n",
      "LAST\tDen\t\"conference paper\"\n",
      "LAST\tP31\tQ23927052\tS854\t\"https://dcpapers.dublincore.org/pubs/issue/view/30\"\n",
      "LAST\tP1476\ten:\"Application Profiles: Exposing and Enforcing Metadata Quality\"\tS854\t\"https://dcpapers.dublincore.org/pubs/issue/view/30\"\n",
      "LAST\tP953\t\"http://dcpapers.dublincore.org/pubs/article/view/866\"\tS854\t\"https://dcpapers.dublincore.org/pubs/issue/view/30\"\n",
      "LAST\tP1433\tQ68278331\tS854\t\"https://dcpapers.dublincore.org/pubs/issue/view/30\"\n",
      "\n",
      "LAST\tP2093\t\"Diane I. Hillmann\"\tP1545\t\"1\"\tS854\t\"https://dcpapers.dublincore.org/pubs/issue/view/30\"\n",
      "LAST\tP2093\t\"Jon Phipps\"\tP1545\t\"2\"\tS854\t\"https://dcpapers.dublincore.org/pubs/issue/view/30\"\n",
      "\n",
      "CREATE\n",
      "LAST\tLen\t\"Using an Application Profile Based Service Registry\"\n",
      "LAST\tDen\t\"conference paper\"\n",
      "LAST\tP31\tQ23927052\tS854\t\"https://dcpapers.dublincore.org/pubs/issue/view/30\"\n",
      "LAST\tP1476\ten:\"Using an Application Profile Based Service Registry\"\tS854\t\"https://dcpapers.dublincore.org/pubs/issue/view/30\"\n",
      "LAST\tP953\t\"http://dcpapers.dublincore.org/pubs/article/view/867\"\tS854\t\"https://dcpapers.dublincore.org/pubs/issue/view/30\"\n",
      "LAST\tP1433\tQ68278331\tS854\t\"https://dcpapers.dublincore.org/pubs/issue/view/30\"\n",
      "\n",
      "LAST\tP2093\t\"Ann Apps\"\tP1545\t\"1\"\tS854\t\"https://dcpapers.dublincore.org/pubs/issue/view/30\"\n",
      "\n",
      "CREATE\n",
      "LAST\tLen\t\"Identifying the Identifiers\"\n",
      "LAST\tDen\t\"conference paper\"\n",
      "LAST\tP31\tQ23927052\tS854\t\"https://dcpapers.dublincore.org/pubs/issue/view/30\"\n",
      "LAST\tP1476\ten:\"Identifying the Identifiers\"\tS854\t\"https://dcpapers.dublincore.org/pubs/issue/view/30\"\n",
      "LAST\tP953\t\"http://dcpapers.dublincore.org/pubs/article/view/868\"\tS854\t\"https://dcpapers.dublincore.org/pubs/issue/view/30\"\n",
      "LAST\tP1433\tQ68278331\tS854\t\"https://dcpapers.dublincore.org/pubs/issue/view/30\"\n",
      "\n",
      "LAST\tP2093\t\"Douglas Campbell\"\tP1545\t\"1\"\tS854\t\"https://dcpapers.dublincore.org/pubs/issue/view/30\"\n",
      "\n",
      "CREATE\n",
      "LAST\tLen\t\"Using Metadata Schema Registry as a Core Function to Enhance Usability and Reusability of Metadata Schemas\"\n",
      "LAST\tDen\t\"conference paper\"\n",
      "LAST\tP31\tQ23927052\tS854\t\"https://dcpapers.dublincore.org/pubs/issue/view/30\"\n",
      "LAST\tP1476\ten:\"Using Metadata Schema Registry as a Core Function to Enhance Usability and Reusability of Metadata Schemas\"\tS854\t\"https://dcpapers.dublincore.org/pubs/issue/view/30\"\n",
      "LAST\tP953\t\"http://dcpapers.dublincore.org/pubs/article/view/869\"\tS854\t\"https://dcpapers.dublincore.org/pubs/issue/view/30\"\n",
      "LAST\tP1433\tQ68278331\tS854\t\"https://dcpapers.dublincore.org/pubs/issue/view/30\"\n",
      "\n",
      "LAST\tP2093\t\"Mitsuharu Nagamori\"\tP1545\t\"1\"\tS854\t\"https://dcpapers.dublincore.org/pubs/issue/view/30\"\n",
      "LAST\tP2093\t\"Shigeo Sugimoto\"\tP1545\t\"2\"\tS854\t\"https://dcpapers.dublincore.org/pubs/issue/view/30\"\n",
      "\n",
      "CREATE\n",
      "LAST\tLen\t\"Virtual Archival Exhibition System: An Authoring Tool for Developing Web-based Virtual Exhibitions\"\n",
      "LAST\tDen\t\"conference paper\"\n",
      "LAST\tP31\tQ23927052\tS854\t\"https://dcpapers.dublincore.org/pubs/issue/view/30\"\n",
      "LAST\tP1476\ten:\"Virtual Archival Exhibition System: An Authoring Tool for Developing Web-based Virtual Exhibitions\"\tS854\t\"https://dcpapers.dublincore.org/pubs/issue/view/30\"\n",
      "LAST\tP953\t\"http://dcpapers.dublincore.org/pubs/article/view/870\"\tS854\t\"https://dcpapers.dublincore.org/pubs/issue/view/30\"\n",
      "LAST\tP1433\tQ68278331\tS854\t\"https://dcpapers.dublincore.org/pubs/issue/view/30\"\n",
      "\n",
      "LAST\tP2093\t\"Ruan Yang\"\tP1545\t\"1\"\tS854\t\"https://dcpapers.dublincore.org/pubs/issue/view/30\"\n",
      "LAST\tP2093\t\"Chennupati K. Ramaiah\"\tP1545\t\"2\"\tS854\t\"https://dcpapers.dublincore.org/pubs/issue/view/30\"\n",
      "LAST\tP2093\t\"Schubert Foo\"\tP1545\t\"3\"\tS854\t\"https://dcpapers.dublincore.org/pubs/issue/view/30\"\n",
      "\n",
      "CREATE\n",
      "LAST\tLen\t\"Integrating Dublin Core Metadata for Cultural Heritage Collections Using Ontologies\"\n",
      "LAST\tDen\t\"conference paper\"\n",
      "LAST\tP31\tQ23927052\tS854\t\"https://dcpapers.dublincore.org/pubs/issue/view/30\"\n",
      "LAST\tP1476\ten:\"Integrating Dublin Core Metadata for Cultural Heritage Collections Using Ontologies\"\tS854\t\"https://dcpapers.dublincore.org/pubs/issue/view/30\"\n",
      "LAST\tP953\t\"http://dcpapers.dublincore.org/pubs/article/view/871\"\tS854\t\"https://dcpapers.dublincore.org/pubs/issue/view/30\"\n",
      "LAST\tP1433\tQ68278331\tS854\t\"https://dcpapers.dublincore.org/pubs/issue/view/30\"\n",
      "\n",
      "LAST\tP2093\t\"Constantia Kakali\"\tP1545\t\"1\"\tS854\t\"https://dcpapers.dublincore.org/pubs/issue/view/30\"\n",
      "LAST\tP2093\t\"Irene Lourdi\"\tP1545\t\"2\"\tS854\t\"https://dcpapers.dublincore.org/pubs/issue/view/30\"\n",
      "LAST\tP2093\t\"Thomais Stasinopoulou\"\tP1545\t\"3\"\tS854\t\"https://dcpapers.dublincore.org/pubs/issue/view/30\"\n",
      "LAST\tP2093\t\"Lina Bountouri\"\tP1545\t\"4\"\tS854\t\"https://dcpapers.dublincore.org/pubs/issue/view/30\"\n",
      "LAST\tP2093\t\"Christos Papatheodorou\"\tP1545\t\"5\"\tS854\t\"https://dcpapers.dublincore.org/pubs/issue/view/30\"\n",
      "LAST\tP2093\t\"Martin Doerr\"\tP1545\t\"6\"\tS854\t\"https://dcpapers.dublincore.org/pubs/issue/view/30\"\n",
      "LAST\tP2093\t\"Manolis Gergatsoulis\"\tP1545\t\"7\"\tS854\t\"https://dcpapers.dublincore.org/pubs/issue/view/30\"\n",
      "\n",
      "CREATE\n",
      "LAST\tLen\t\"Can a System Make Novice Users Experts? Important Factors for Automatic Metadata Generation Systems\"\n",
      "LAST\tDen\t\"conference paper\"\n",
      "LAST\tP31\tQ23927052\tS854\t\"https://dcpapers.dublincore.org/pubs/issue/view/30\"\n",
      "LAST\tP1476\ten:\"Can a System Make Novice Users Experts? Important Factors for Automatic Metadata Generation Systems\"\tS854\t\"https://dcpapers.dublincore.org/pubs/issue/view/30\"\n",
      "LAST\tP953\t\"http://dcpapers.dublincore.org/pubs/article/view/872\"\tS854\t\"https://dcpapers.dublincore.org/pubs/issue/view/30\"\n",
      "LAST\tP1433\tQ68278331\tS854\t\"https://dcpapers.dublincore.org/pubs/issue/view/30\"\n",
      "\n",
      "LAST\tP2093\t\"Sueyeon Syn\"\tP1545\t\"1\"\tS854\t\"https://dcpapers.dublincore.org/pubs/issue/view/30\"\n",
      "LAST\tP2093\t\"Michael B. Spring\"\tP1545\t\"2\"\tS854\t\"https://dcpapers.dublincore.org/pubs/issue/view/30\"\n",
      "\n",
      "CREATE\n",
      "LAST\tLen\t\"SCROL Application Profile\"\n",
      "LAST\tDen\t\"conference paper\"\n",
      "LAST\tP31\tQ23927052\tS854\t\"https://dcpapers.dublincore.org/pubs/issue/view/30\"\n",
      "LAST\tP1476\ten:\"SCROL Application Profile\"\tS854\t\"https://dcpapers.dublincore.org/pubs/issue/view/30\"\n",
      "LAST\tP953\t\"http://dcpapers.dublincore.org/pubs/article/view/873\"\tS854\t\"https://dcpapers.dublincore.org/pubs/issue/view/30\"\n",
      "LAST\tP1433\tQ68278331\tS854\t\"https://dcpapers.dublincore.org/pubs/issue/view/30\"\n",
      "\n",
      "LAST\tP2093\t\"Steven Wan Wu\"\tP1545\t\"1\"\tS854\t\"https://dcpapers.dublincore.org/pubs/issue/view/30\"\n",
      "LAST\tP2093\t\"Barbara Reed\"\tP1545\t\"2\"\tS854\t\"https://dcpapers.dublincore.org/pubs/issue/view/30\"\n",
      "LAST\tP2093\t\"Paul Loke\"\tP1545\t\"3\"\tS854\t\"https://dcpapers.dublincore.org/pubs/issue/view/30\"\n",
      "\n",
      "CREATE\n",
      "LAST\tLen\t\"The DCMI Tools Application Profile\"\n",
      "LAST\tDen\t\"conference paper\"\n",
      "LAST\tP31\tQ23927052\tS854\t\"https://dcpapers.dublincore.org/pubs/issue/view/30\"\n",
      "LAST\tP1476\ten:\"The DCMI Tools Application Profile\"\tS854\t\"https://dcpapers.dublincore.org/pubs/issue/view/30\"\n",
      "LAST\tP953\t\"http://dcpapers.dublincore.org/pubs/article/view/874\"\tS854\t\"https://dcpapers.dublincore.org/pubs/issue/view/30\"\n",
      "LAST\tP1433\tQ68278331\tS854\t\"https://dcpapers.dublincore.org/pubs/issue/view/30\"\n",
      "\n",
      "LAST\tP2093\t\"Thomas Severiens\"\tP1545\t\"1\"\tS854\t\"https://dcpapers.dublincore.org/pubs/issue/view/30\"\n",
      "LAST\tP2093\t\"Jane Greenberg\"\tP1545\t\"2\"\tS854\t\"https://dcpapers.dublincore.org/pubs/issue/view/30\"\n",
      "\n",
      "CREATE\n",
      "LAST\tLen\t\"The DRIADE Project: Phased Application Profile Development in Support of Open Science\"\n",
      "LAST\tDen\t\"conference paper\"\n",
      "LAST\tP31\tQ23927052\tS854\t\"https://dcpapers.dublincore.org/pubs/issue/view/30\"\n",
      "LAST\tP1476\ten:\"The DRIADE Project: Phased Application Profile Development in Support of Open Science\"\tS854\t\"https://dcpapers.dublincore.org/pubs/issue/view/30\"\n",
      "LAST\tP953\t\"http://dcpapers.dublincore.org/pubs/article/view/875\"\tS854\t\"https://dcpapers.dublincore.org/pubs/issue/view/30\"\n",
      "LAST\tP1433\tQ68278331\tS854\t\"https://dcpapers.dublincore.org/pubs/issue/view/30\"\n",
      "\n",
      "LAST\tP2093\t\"Jane Greenberg\"\tP1545\t\"1\"\tS854\t\"https://dcpapers.dublincore.org/pubs/issue/view/30\"\n",
      "LAST\tP2093\t\"Sarah Carrier\"\tP1545\t\"2\"\tS854\t\"https://dcpapers.dublincore.org/pubs/issue/view/30\"\n",
      "LAST\tP2093\t\"Jed Dube\"\tP1545\t\"3\"\tS854\t\"https://dcpapers.dublincore.org/pubs/issue/view/30\"\n",
      "\n",
      "CREATE\n",
      "LAST\tLen\t\"Education.au and Metadata for Events\"\n",
      "LAST\tDen\t\"conference paper\"\n",
      "LAST\tP31\tQ23927052\tS854\t\"https://dcpapers.dublincore.org/pubs/issue/view/30\"\n",
      "LAST\tP1476\ten:\"Education.au and Metadata for Events\"\tS854\t\"https://dcpapers.dublincore.org/pubs/issue/view/30\"\n",
      "LAST\tP953\t\"http://dcpapers.dublincore.org/pubs/article/view/876\"\tS854\t\"https://dcpapers.dublincore.org/pubs/issue/view/30\"\n",
      "LAST\tP1433\tQ68278331\tS854\t\"https://dcpapers.dublincore.org/pubs/issue/view/30\"\n",
      "\n",
      "LAST\tP2093\t\"Pru Mitchell\"\tP1545\t\"1\"\tS854\t\"https://dcpapers.dublincore.org/pubs/issue/view/30\"\n",
      "\n",
      "CREATE\n",
      "LAST\tLen\t\"Integrating Dublin Core and Learning Object Metadata for Describing Learning Objects for Enhanced Reusability\"\n",
      "LAST\tDen\t\"conference paper\"\n",
      "LAST\tP31\tQ23927052\tS854\t\"https://dcpapers.dublincore.org/pubs/issue/view/30\"\n",
      "LAST\tP1476\ten:\"Integrating Dublin Core and Learning Object Metadata for Describing Learning Objects for Enhanced Reusability\"\tS854\t\"https://dcpapers.dublincore.org/pubs/issue/view/30\"\n",
      "LAST\tP953\t\"http://dcpapers.dublincore.org/pubs/article/view/877\"\tS854\t\"https://dcpapers.dublincore.org/pubs/issue/view/30\"\n",
      "LAST\tP1433\tQ68278331\tS854\t\"https://dcpapers.dublincore.org/pubs/issue/view/30\"\n",
      "\n",
      "LAST\tP2093\t\"Abdul Halim Abdul\"\tP1545\t\"1\"\tS854\t\"https://dcpapers.dublincore.org/pubs/issue/view/30\"\n",
      "LAST\tP2093\t\"Abdus Sattar Chaudhy\"\tP1545\t\"2\"\tS854\t\"https://dcpapers.dublincore.org/pubs/issue/view/30\"\n",
      "LAST\tP2093\t\"Christopher S.G. Khoo\"\tP1545\t\"3\"\tS854\t\"https://dcpapers.dublincore.org/pubs/issue/view/30\"\n",
      "\n",
      "CREATE\n",
      "LAST\tLen\t\"Audience-Centric Taxonomy: Using Taxonomies to Support Heterogeneous User Communities\"\n",
      "LAST\tDen\t\"conference paper\"\n",
      "LAST\tP31\tQ23927052\tS854\t\"https://dcpapers.dublincore.org/pubs/issue/view/30\"\n",
      "LAST\tP1476\ten:\"Audience-Centric Taxonomy: Using Taxonomies to Support Heterogeneous User Communities\"\tS854\t\"https://dcpapers.dublincore.org/pubs/issue/view/30\"\n",
      "LAST\tP953\t\"http://dcpapers.dublincore.org/pubs/article/view/878\"\tS854\t\"https://dcpapers.dublincore.org/pubs/issue/view/30\"\n",
      "LAST\tP1433\tQ68278331\tS854\t\"https://dcpapers.dublincore.org/pubs/issue/view/30\"\n",
      "\n",
      "LAST\tP2093\t\"Dave Clarke\"\tP1545\t\"1\"\tS854\t\"https://dcpapers.dublincore.org/pubs/issue/view/30\"\n",
      "LAST\tP2093\t\"Pei Jiun Tan\"\tP1545\t\"2\"\tS854\t\"https://dcpapers.dublincore.org/pubs/issue/view/30\"\n"
     ]
    }
   ],
   "source": [
    "import requests\n",
    "from bs4 import BeautifulSoup, SoupStrainer\n",
    "\n",
    "page = requests.get(referenceurl).text\n",
    "soup = BeautifulSoup(page)\n",
    "\n",
    "table = soup.findAll('td', {'class': 'tocArticleTitleAuthors'})\n",
    "i = 0\n",
    "for article in table:\n",
    "    i+=1\n",
    "    if i == 1:\n",
    "        continue\n",
    "    title = article.find('div', {'class': 'tocTitle'})\n",
    "    print(\"\\nCREATE\")\n",
    "    print(\"LAST\\tLen\\t\\\"\"+title.text.strip().replace(\"\\n\", \"\")+\"\\\"\")\n",
    "    print(\"LAST\\tDen\\t\\\"conference paper\\\"\")\n",
    "    print(\"LAST\\tP31\\tQ23927052\\tS854\\t\\\"\"+referenceurl+\"\\\"\")\n",
    "    print(\"LAST\\tP1476\\ten:\\\"\"+title.text.strip().replace(\"\\n\", \"\")+\"\\\"\\tS854\\t\\\"\"+referenceurl+\"\\\"\")\n",
    "    print(\"LAST\\tP953\\t\\\"\"+title.a[\"href\"]+\"\\\"\\tS854\\t\\\"\"+referenceurl+\"\\\"\")\n",
    "    print(\"LAST\\tP1433\\t\"+proceedingsQID+\"\\tS854\\t\\\"\"+referenceurl+\"\\\"\") \n",
    "    print(\"\")\n",
    "    authors = article.find('div', {'class': 'tocAuthors'}).text.strip().split(\",\")\n",
    "    seriesordinal = 0\n",
    "    for author in authors:\n",
    "        #print(author.strip())\n",
    "        seriesordinal +=1\n",
    "        print(\"LAST\\tP2093\\t\\\"\"+author.strip()+\"\\\"\\tP1545\\t\\\"\"+str(seriesordinal)+\"\\\"\\tS854\\t\\\"\"+referenceurl+\"\\\"\")"
   ]
  },
  {
   "cell_type": "code",
   "execution_count": null,
   "metadata": {},
   "outputs": [],
   "source": []
  }
 ],
 "metadata": {
  "kernelspec": {
   "display_name": "Python 3",
   "language": "python",
   "name": "python3"
  },
  "language_info": {
   "codemirror_mode": {
    "name": "ipython",
    "version": 3
   },
   "file_extension": ".py",
   "mimetype": "text/x-python",
   "name": "python",
   "nbconvert_exporter": "python",
   "pygments_lexer": "ipython3",
   "version": "3.7.4"
  }
 },
 "nbformat": 4,
 "nbformat_minor": 4
}
